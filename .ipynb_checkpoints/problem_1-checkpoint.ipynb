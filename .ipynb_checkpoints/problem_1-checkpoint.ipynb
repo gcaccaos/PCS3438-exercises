{
 "cells": [
  {
   "cell_type": "code",
   "execution_count": 1,
   "metadata": {},
   "outputs": [],
   "source": [
    "from sklearn.naive_bayes import GaussianNB\n",
    "from sklearn.metrics import accuracy_score\n",
    "from sklearn.model_selection import LeaveOneOut\n",
    "import pandas as pd\n",
    "import numpy as np"
   ]
  },
  {
   "cell_type": "code",
   "execution_count": 2,
   "metadata": {},
   "outputs": [],
   "source": [
    "data = pd.read_csv('data/class01.csv')"
   ]
  },
  {
   "cell_type": "code",
   "execution_count": 3,
   "metadata": {},
   "outputs": [],
   "source": [
    "X = data.iloc[:, :-1].values\n",
    "y = data.iloc[:, -1].values"
   ]
  },
  {
   "cell_type": "code",
   "execution_count": 4,
   "metadata": {},
   "outputs": [
    {
     "name": "stdout",
     "output_type": "stream",
     "text": [
      "Train accuracy: 0.7000000000\n",
      "Test accuracy: 0.6830769231\n"
     ]
    }
   ],
   "source": [
    "# Holdout\n",
    "classifier = GaussianNB()\n",
    "\n",
    "X_train, X_test = X[:350], X[350:]\n",
    "y_train, y_test = y[:350], y[350:]\n",
    "\n",
    "classifier.fit(X, y)\n",
    "y_test_predicted = classifier.predict(X_test)\n",
    "y_train_predicted = classifier.predict(X_train)\n",
    "\n",
    "trainAccuracy = accuracy_score(y_train, y_train_predicted)\n",
    "testAccuracy = accuracy_score(y_test, y_test_predicted)\n",
    "\n",
    "print('Train accuracy: {:.10f}'.format(trainAccuracy))\n",
    "print('Test accuracy: {:.10f}'.format(testAccuracy))"
   ]
  },
  {
   "cell_type": "code",
   "execution_count": 5,
   "metadata": {},
   "outputs": [
    {
     "name": "stdout",
     "output_type": "stream",
     "text": [
      "Mean Test Accuracy: 0.6420000000\n",
      "Std of the mean: 0.0151603430\n",
      "Mean Train Accuracy: 0.6892802803\n",
      "Std of the mean: 0.0000287989\n"
     ]
    }
   ],
   "source": [
    "# Leave One Out\n",
    "classifier = GaussianNB()\n",
    "loo = LeaveOneOut()\n",
    "\n",
    "trainAccuracies = []\n",
    "testAccuracies = []\n",
    "\n",
    "for train_index, test_index in loo.split(X, y):\n",
    "    X_train, X_test = X[train_index], X[test_index]\n",
    "    y_train, y_test = y[train_index], y[test_index]\n",
    "\n",
    "    classifier.fit(X_train, y_train)\n",
    "    y_train_predicted = classifier.predict(X_train)\n",
    "    y_test_predicted = classifier.predict(X_test)\n",
    "\n",
    "    trainAccuracy = accuracy_score(y_train, y_train_predicted)\n",
    "    testAccuracy = accuracy_score(y_test, y_test_predicted)\n",
    "    \n",
    "    trainAccuracies.append(trainAccuracy)\n",
    "    testAccuracies.append(testAccuracy)\n",
    "    \n",
    "meanTrainAccuracy = np.mean(trainAccuracies)\n",
    "stdMeanTrainAccuracy = np.std(trainAccuracies)/np.sqrt(X.shape[0])\n",
    "\n",
    "meanTestAccuracy = np.mean(testAccuracies)\n",
    "stdMeanTestAccuracy = np.std(testAccuracies)/np.sqrt(X.shape[0])\n",
    "\n",
    "print('Mean Test Accuracy: {:.10f}'.format(meanTestAccuracy))\n",
    "print('Std of the mean: {:.10f}'.format(stdMeanTestAccuracy))\n",
    "\n",
    "print('Mean Train Accuracy: {:.10f}'.format(meanTrainAccuracy))\n",
    "print('Std of the mean: {:.10f}'.format(stdMeanTrainAccuracy))"
   ]
  }
 ],
 "metadata": {
  "kernelspec": {
   "display_name": "Python 3",
   "language": "python",
   "name": "python3"
  },
  "language_info": {
   "codemirror_mode": {
    "name": "ipython",
    "version": 3
   },
   "file_extension": ".py",
   "mimetype": "text/x-python",
   "name": "python",
   "nbconvert_exporter": "python",
   "pygments_lexer": "ipython3",
   "version": "3.6.6"
  }
 },
 "nbformat": 4,
 "nbformat_minor": 2
}
