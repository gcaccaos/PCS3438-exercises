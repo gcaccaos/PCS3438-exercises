{
 "cells": [
  {
   "cell_type": "code",
   "execution_count": 2,
   "metadata": {},
   "outputs": [],
   "source": [
    "from sklearn import linear_model\n",
    "from sklearn.metrics import mean_squared_error\n",
    "from sklearn.model_selection import LeaveOneOut\n",
    "import pandas as pd\n",
    "import numpy as np"
   ]
  },
  {
   "cell_type": "code",
   "execution_count": 3,
   "metadata": {},
   "outputs": [],
   "source": [
    "data = pd.read_csv('data/reg01.csv')"
   ]
  },
  {
   "cell_type": "code",
   "execution_count": 4,
   "metadata": {},
   "outputs": [],
   "source": [
    "X = data.iloc[:, :-1].values\n",
    "y = data.iloc[:, -1].values"
   ]
  },
  {
   "cell_type": "code",
   "execution_count": 5,
   "metadata": {},
   "outputs": [
    {
     "name": "stdout",
     "output_type": "stream",
     "text": [
      "Mean Test RMSE: 15.4652187917\n",
      "Std of the mean: 0.3714145696\n",
      "Mean Train RMSE: 19.2202598377\n",
      "Std of the mean: 0.0004671282\n"
     ]
    }
   ],
   "source": [
    "# Leave One Out\n",
    "regressor = linear_model.Lasso(alpha = 1)\n",
    "loo = LeaveOneOut()\n",
    "\n",
    "trainRMSEs = []\n",
    "testRMSEs = []\n",
    "\n",
    "for train_index, test_index in loo.split(X, y):\n",
    "    X_train, X_test = X[train_index], X[test_index]\n",
    "    y_train, y_test = y[train_index], y[test_index]\n",
    "\n",
    "    regressor.fit(X_train, y_train)\n",
    "    y_train_predicted = regressor.predict(X_train)\n",
    "    y_test_predicted = regressor.predict(X_test)\n",
    "\n",
    "    trainRMSE = np.sqrt(mean_squared_error(y_train, y_train_predicted))\n",
    "    testRMSE = np.sqrt(mean_squared_error(y_test, y_test_predicted))\n",
    "    \n",
    "    trainRMSEs.append(trainRMSE)\n",
    "    testRMSEs.append(testRMSE)\n",
    "    \n",
    "meanTrainRMSE = np.mean(trainRMSEs)\n",
    "stdMeanTrainRMSE = np.std(trainRMSEs)/np.sqrt(X.shape[0])\n",
    "\n",
    "meanTestRMSE = np.mean(testRMSEs)\n",
    "stdMeanTestRMSE = np.std(testRMSEs)/np.sqrt(X.shape[0])\n",
    "\n",
    "print('Mean Test RMSE: {:.10f}'.format(meanTestRMSE))\n",
    "print('Std of the mean: {:.10f}'.format(stdMeanTestRMSE))\n",
    "\n",
    "print('Mean Train RMSE: {:.10f}'.format(meanTrainRMSE))\n",
    "print('Std of the mean: {:.10f}'.format(stdMeanTrainRMSE))"
   ]
  }
 ],
 "metadata": {
  "kernelspec": {
   "display_name": "Python 3",
   "language": "python",
   "name": "python3"
  },
  "language_info": {
   "codemirror_mode": {
    "name": "ipython",
    "version": 3
   },
   "file_extension": ".py",
   "mimetype": "text/x-python",
   "name": "python",
   "nbconvert_exporter": "python",
   "pygments_lexer": "ipython3",
   "version": "3.6.6"
  }
 },
 "nbformat": 4,
 "nbformat_minor": 2
}
