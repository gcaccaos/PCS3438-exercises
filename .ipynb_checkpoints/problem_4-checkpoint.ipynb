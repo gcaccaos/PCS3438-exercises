{
 "cells": [
  {
   "cell_type": "code",
   "execution_count": 1,
   "metadata": {},
   "outputs": [],
   "source": [
    "from sklearn.tree import DecisionTreeRegressor\n",
    "from sklearn.metrics import mean_absolute_error\n",
    "from sklearn.model_selection import KFold\n",
    "import pandas as pd\n",
    "import numpy as np"
   ]
  },
  {
   "cell_type": "code",
   "execution_count": 2,
   "metadata": {},
   "outputs": [],
   "source": [
    "data = pd.read_csv('data/reg02.csv')"
   ]
  },
  {
   "cell_type": "code",
   "execution_count": 3,
   "metadata": {},
   "outputs": [],
   "source": [
    "X = data.iloc[:, :-1].values\n",
    "y = data.iloc[:, -1].values"
   ]
  },
  {
   "cell_type": "code",
   "execution_count": 4,
   "metadata": {},
   "outputs": [
    {
     "name": "stdout",
     "output_type": "stream",
     "text": [
      "Mean Test MAE: 43.0572880658\n",
      "Std of the mean: 0.0829379437\n",
      "Mean Train MAE: 0.0000000000\n",
      "Std of the mean: 0.0000000000\n"
     ]
    }
   ],
   "source": [
    "nFolders = 10\n",
    "\n",
    "regressor = DecisionTreeRegressor()\n",
    "kfold = KFold(n_splits = nFolders)\n",
    "\n",
    "trainMAEs = []\n",
    "testMAEs = []\n",
    "\n",
    "for train_index, test_index in kfold.split(X, y):\n",
    "    X_train, X_test = X[train_index], X[test_index]\n",
    "    y_train, y_test = y[train_index], y[test_index]\n",
    "\n",
    "    regressor.fit(X_train, y_train)\n",
    "    y_train_predicted = regressor.predict(X_train)\n",
    "    y_test_predicted = regressor.predict(X_test)\n",
    "\n",
    "    trainMAE = mean_absolute_error(y_train, y_train_predicted)\n",
    "    testMAE = mean_absolute_error(y_test, y_test_predicted)\n",
    "    \n",
    "    trainMAEs.append(trainMAE)\n",
    "    testMAEs.append(testMAE)\n",
    "\n",
    "meanTrainMAE = np.mean(trainMAEs)\n",
    "stdMeanTrainMAE = np.std(trainMAEs)/np.sqrt(X.shape[0])\n",
    "\n",
    "meanTestMAE = np.mean(testMAEs)\n",
    "stdMeanTestMAE = np.std(testMAEs)/np.sqrt(X.shape[0])\n",
    "\n",
    "print('Mean Test MAE: {:.10f}'.format(meanTestMAE))\n",
    "print('Std of the mean: {:.10f}'.format(stdMeanTestMAE))\n",
    "\n",
    "print('Mean Train MAE: {:.10f}'.format(meanTrainMAE))\n",
    "print('Std of the mean: {:.10f}'.format(stdMeanTrainMAE))"
   ]
  },
  {
   "cell_type": "code",
   "execution_count": null,
   "metadata": {},
   "outputs": [],
   "source": []
  }
 ],
 "metadata": {
  "kernelspec": {
   "display_name": "Python 3",
   "language": "python",
   "name": "python3"
  },
  "language_info": {
   "codemirror_mode": {
    "name": "ipython",
    "version": 3
   },
   "file_extension": ".py",
   "mimetype": "text/x-python",
   "name": "python",
   "nbconvert_exporter": "python",
   "pygments_lexer": "ipython3",
   "version": "3.6.6"
  }
 },
 "nbformat": 4,
 "nbformat_minor": 2
}
