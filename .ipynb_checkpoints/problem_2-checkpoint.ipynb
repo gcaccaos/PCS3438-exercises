{
 "cells": [
  {
   "cell_type": "code",
   "execution_count": 1,
   "metadata": {},
   "outputs": [],
   "source": [
    "%matplotlib inline"
   ]
  },
  {
   "cell_type": "code",
   "execution_count": 2,
   "metadata": {},
   "outputs": [],
   "source": [
    "import matplotlib.pyplot as plt\n",
    "from sklearn.neighbors import KNeighborsClassifier\n",
    "from sklearn.metrics import accuracy_score\n",
    "from sklearn.model_selection import KFold\n",
    "import pandas as pd\n",
    "import numpy as np"
   ]
  },
  {
   "cell_type": "code",
   "execution_count": 3,
   "metadata": {},
   "outputs": [],
   "source": [
    "data = pd.read_csv('data/class02.csv')"
   ]
  },
  {
   "cell_type": "code",
   "execution_count": 4,
   "metadata": {},
   "outputs": [],
   "source": [
    "X = data.iloc[:, :-1].values\n",
    "y = data.iloc[:, -1].values"
   ]
  },
  {
   "cell_type": "code",
   "execution_count": 5,
   "metadata": {},
   "outputs": [
    {
     "name": "stdout",
     "output_type": "stream",
     "text": [
      "Neighbors: 1\n",
      "Mean Accuracy: 0.7766666667\n",
      "Std of the mean: 0.0098092926\n",
      "---------------------------------------------------------------\n",
      "\n",
      "Neighbors: 2\n",
      "Mean Accuracy: 0.7653333333\n",
      "Std of the mean: 0.0088342767\n",
      "---------------------------------------------------------------\n",
      "\n",
      "Neighbors: 3\n",
      "Mean Accuracy: 0.8053333333\n",
      "Std of the mean: 0.0115393048\n",
      "---------------------------------------------------------------\n",
      "\n",
      "Neighbors: 4\n",
      "Mean Accuracy: 0.8073333333\n",
      "Std of the mean: 0.0076274359\n",
      "---------------------------------------------------------------\n",
      "\n",
      "Neighbors: 5\n",
      "Mean Accuracy: 0.8233333333\n",
      "Std of the mean: 0.0109239797\n",
      "---------------------------------------------------------------\n",
      "\n",
      "Neighbors: 6\n",
      "Mean Accuracy: 0.8226666667\n",
      "Std of the mean: 0.0089542045\n",
      "---------------------------------------------------------------\n",
      "\n",
      "Neighbors: 7\n",
      "Mean Accuracy: 0.8266666667\n",
      "Std of the mean: 0.0092855922\n",
      "---------------------------------------------------------------\n",
      "\n",
      "Neighbors: 8\n",
      "Mean Accuracy: 0.8373333333\n",
      "Std of the mean: 0.0087024901\n",
      "---------------------------------------------------------------\n",
      "\n",
      "Neighbors: 9\n",
      "Mean Accuracy: 0.8346666667\n",
      "Std of the mean: 0.0104477536\n",
      "---------------------------------------------------------------\n",
      "\n",
      "Neighbors: 10\n",
      "Mean Accuracy: 0.8340000000\n",
      "Std of the mean: 0.0087660963\n",
      "---------------------------------------------------------------\n",
      "\n"
     ]
    }
   ],
   "source": [
    "nFolders = 10\n",
    "maxNeighbors = 10\n",
    "\n",
    "meanAccuracies = []\n",
    "stdMeanAccuracies = []\n",
    "\n",
    "for nNeighbors in range(1, maxNeighbors + 1):\n",
    "    classifier = KNeighborsClassifier(n_neighbors = nNeighbors)\n",
    "    kfold = KFold(n_splits = nFolders)\n",
    "\n",
    "    accuracies = []\n",
    "\n",
    "    for train_index, test_index in kfold.split(X, y):\n",
    "        X_train, X_test = X[train_index], X[test_index]\n",
    "        y_train, y_test = y[train_index], y[test_index]\n",
    "\n",
    "        classifier.fit(X_train, y_train)\n",
    "        y_predicted = classifier.predict(X_test)\n",
    "        \n",
    "        accuracy = accuracy_score(y_test, y_predicted)\n",
    "        \n",
    "        accuracies.append(accuracy)\n",
    "    \n",
    "    meanAccuracy = np.mean(accuracies)\n",
    "    stdMeanAccuracy = np.std(accuracies)/np.sqrt(nFolders)\n",
    "    \n",
    "    meanAccuracies.append(meanAccuracy)\n",
    "    stdMeanAccuracies.append(stdMeanAccuracy)\n",
    "    \n",
    "    print('Neighbors: {}'.format(nNeighbors))\n",
    "    print('Mean Accuracy: {:.10f}'.format(meanAccuracy))\n",
    "    print('Std of the mean: {:.10f}'.format(stdMeanAccuracy))\n",
    "    print('---------------------------------------------------------------\\n')"
   ]
  },
  {
   "cell_type": "code",
   "execution_count": 6,
   "metadata": {},
   "outputs": [],
   "source": [
    "meanAccuracies = np.array(meanAccuracies)\n",
    "stdMeanAccuracies = np.array(stdMeanAccuracies)"
   ]
  },
  {
   "cell_type": "code",
   "execution_count": 7,
   "metadata": {},
   "outputs": [
    {
     "data": {
      "image/png": "[encoded data removed]",
      "text/plain": [
       "<Figure size 432x288 with 1 Axes>"
      ]
     },
     "metadata": {
      "needs_background": "light"
     },
     "output_type": "display_data"
    }
   ],
   "source": [
    "fig, ax = plt.subplots()\n",
    "\n",
    "ax.plot(range(1, maxNeighbors + 1), meanAccuracies)\n",
    "ax.fill_between(range(1, maxNeighbors + 1),\n",
    "                meanAccuracies - stdMeanAccuracies,\n",
    "                meanAccuracies + stdMeanAccuracies,\n",
    "                alpha = 0.3)\n",
    "\n",
    "ax.set_xlabel('Neighbors')\n",
    "ax.set_ylabel('Mean Accuracy')\n",
    "\n",
    "plt.show()"
   ]
  }
 ],
 "metadata": {
  "kernelspec": {
   "display_name": "Python 3",
   "language": "python",
   "name": "python3"
  },
  "language_info": {
   "codemirror_mode": {
    "name": "ipython",
    "version": 3
   },
   "file_extension": ".py",
   "mimetype": "text/x-python",
   "name": "python",
   "nbconvert_exporter": "python",
   "pygments_lexer": "ipython3",
   "version": "3.6.6"
  }
 },
 "nbformat": 4,
 "nbformat_minor": 2
}
